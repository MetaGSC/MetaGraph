{
  "nbformat": 4,
  "nbformat_minor": 0,
  "metadata": {
    "colab": {
      "name": "GNN-Visualization.ipynb",
      "provenance": [],
      "collapsed_sections": []
    },
    "kernelspec": {
      "name": "python3",
      "display_name": "Python 3"
    },
    "language_info": {
      "name": "python"
    }
  },
  "cells": [
    {
      "cell_type": "code",
      "execution_count": 1,
      "metadata": {
        "colab": {
          "base_uri": "https://localhost:8080/"
        },
        "id": "u9GNnjf-3Sy7",
        "outputId": "f2f215c0-ac55-4779-9ca6-e263ab8a4839"
      },
      "outputs": [
        {
          "output_type": "stream",
          "name": "stdout",
          "text": [
            "Collecting python-igraph\n",
            "  Downloading python_igraph-0.9.9-py3-none-any.whl (9.1 kB)\n",
            "Collecting igraph==0.9.9\n",
            "  Downloading igraph-0.9.9-cp37-cp37m-manylinux_2_17_x86_64.manylinux2014_x86_64.whl (3.1 MB)\n",
            "\u001b[K     |████████████████████████████████| 3.1 MB 6.7 MB/s \n",
            "\u001b[?25hCollecting texttable>=1.6.2\n",
            "  Downloading texttable-1.6.4-py2.py3-none-any.whl (10 kB)\n",
            "Installing collected packages: texttable, igraph, python-igraph\n",
            "Successfully installed igraph-0.9.9 python-igraph-0.9.9 texttable-1.6.4\n",
            "Collecting cairocffi\n",
            "  Downloading cairocffi-1.3.0.tar.gz (88 kB)\n",
            "\u001b[K     |████████████████████████████████| 88 kB 3.5 MB/s \n",
            "\u001b[?25hRequirement already satisfied: cffi>=1.1.0 in /usr/local/lib/python3.7/dist-packages (from cairocffi) (1.15.0)\n",
            "Requirement already satisfied: pycparser in /usr/local/lib/python3.7/dist-packages (from cffi>=1.1.0->cairocffi) (2.21)\n",
            "Building wheels for collected packages: cairocffi\n",
            "  Building wheel for cairocffi (setup.py) ... \u001b[?25l\u001b[?25hdone\n",
            "  Created wheel for cairocffi: filename=cairocffi-1.3.0-py3-none-any.whl size=89668 sha256=aee3fe3c309666d4ec5b0cf65242df6b099038b75407fa06251f1b5235804389\n",
            "  Stored in directory: /root/.cache/pip/wheels/4e/ca/e1/5c8a9692a27f639a07c949044bec943f26c81cd53d3805319f\n",
            "Successfully built cairocffi\n",
            "Installing collected packages: cairocffi\n",
            "Successfully installed cairocffi-1.3.0\n"
          ]
        }
      ],
      "source": [
        "!pip install python-igraph\n",
        "!pip install cairocffi"
      ]
    },
    {
      "cell_type": "code",
      "source": [
        ""
      ],
      "metadata": {
        "id": "sipe5foMAY_t"
      },
      "execution_count": 1,
      "outputs": []
    },
    {
      "cell_type": "code",
      "source": [
        "from google.colab import drive\n",
        "drive.mount('/content/gdrive')"
      ],
      "metadata": {
        "colab": {
          "base_uri": "https://localhost:8080/"
        },
        "id": "t9PORoyaAZIP",
        "outputId": "4cb61a7e-cbfd-43bb-aff0-eeaeda308b55"
      },
      "execution_count": 2,
      "outputs": [
        {
          "output_type": "stream",
          "name": "stdout",
          "text": [
            "Mounted at /content/gdrive\n"
          ]
        }
      ]
    },
    {
      "cell_type": "code",
      "source": [
        "gnndatasetpath = \"/content/gdrive/Shareddrives/FYP/DataSets/Gnn-Dataset/Test_Datasets\""
      ],
      "metadata": {
        "id": "-E-1Lfnl_3fh"
      },
      "execution_count": 3,
      "outputs": []
    },
    {
      "cell_type": "code",
      "source": [
        "!mkdir 'figures'"
      ],
      "metadata": {
        "id": "OGi6Vc_M_3hJ"
      },
      "execution_count": 4,
      "outputs": []
    },
    {
      "cell_type": "code",
      "source": [
        "_DEBUG = True"
      ],
      "metadata": {
        "id": "PofrZ5zVvvg2"
      },
      "execution_count": 5,
      "outputs": []
    },
    {
      "cell_type": "code",
      "source": [
        "import re\n",
        "from igraph import *\n",
        "from collections import defaultdict\n",
        "import os\n",
        "import random"
      ],
      "metadata": {
        "id": "H3Qjtz3qr660"
      },
      "execution_count": 20,
      "outputs": []
    },
    {
      "cell_type": "code",
      "source": [
        "#  Bulding the assembly graph"
      ],
      "metadata": {
        "id": "eifEjnqi3Y4S"
      },
      "execution_count": 7,
      "outputs": []
    },
    {
      "cell_type": "code",
      "source": [
        "def predict(sequence):\n",
        "  return random.choice([0,1,2])"
      ],
      "metadata": {
        "id": "vnvT1TX0Xvei"
      },
      "execution_count": 22,
      "outputs": []
    },
    {
      "cell_type": "code",
      "source": [
        "def label_sequences(gfafile):\n",
        "    results = {}\n",
        "    with open(gfafile) as file:\n",
        "      line = file.readline()\n",
        "      while line != \"\":\n",
        "          # Identify lines with sequence information\n",
        "          if \"S\" in line:\n",
        "              strings = line.split(\"\\t\")\n",
        "              name, seq = strings[1], strings[2]\n",
        "              result = predict(seq)\n",
        "              results[name] = result\n",
        "          line = file.readline()\n",
        "    return results"
      ],
      "metadata": {
        "id": "HCMQ0hrpDNvE"
      },
      "execution_count": 8,
      "outputs": []
    },
    {
      "cell_type": "code",
      "source": [
        "def buld_assembly_graph(cotigpathfile, gfafile, node_count = 0, segment_contigs = {}, paths = {}):\n",
        "\n",
        "  # cotigpathfile = \"/content/dataset-1/contigs.paths\"\n",
        "  # gfafile = \"/content/dataset-1/assembly_graph_with_scaffolds.gfa\"\n",
        "\n",
        "  paths = {}\n",
        "  segment_contigs = {}\n",
        "  node_colors = {}\n",
        "  node_count = 0\n",
        "  node_sequences = defaultdict(set)\n",
        "  plasmid_colors = []\n",
        "  chromosome_colors= []\n",
        "\n",
        "  # Get contig paths from contigs.paths\n",
        "  class_results = label_sequences(gfafile)\n",
        "  with open(cotigpathfile) as file:\n",
        "      name = file.readline()\n",
        "      path = file.readline()\n",
        "      \n",
        "      while name != \"\" and path != \"\":\n",
        "              \n",
        "          while \";\" in path:\n",
        "              path = path[:-2]+\",\"+file.readline()\n",
        "          \n",
        "          start = 'NODE_'\n",
        "          end = '_length_'\n",
        "          contig_num = str(int(re.search('%s(.*)%s' % (start, end), name).group(1))-1)\n",
        "          # print(\"contig_num:- \", contig_num , \"\\n\")\n",
        "          \n",
        "          segments = path.rstrip().split(\",\")\n",
        "          \n",
        "          if contig_num not in paths:\n",
        "              node_count += 1\n",
        "              paths[contig_num] = [segments[0], segments[-1]]\n",
        "              # print(\"paths[contig_num]:- \", paths[contig_num] , \"\\n\")\n",
        "          \n",
        "          class_count = [0, 0, 0]\n",
        "          for segment in segments:\n",
        "              if (segment.endswith(\"+\") or segment.endswith(\"-\")):\n",
        "                org_segment = segment[:-1]\n",
        "              else:\n",
        "                org_segment = segment\n",
        "              \n",
        "              node_class = class_results[org_segment]\n",
        "              class_count[node_class] += 1\n",
        "              \n",
        "              node_sequences[contig_num].add(segment)\n",
        "              if segment not in segment_contigs:\n",
        "                  segment_contigs[segment] = set([contig_num])\n",
        "              else:\n",
        "                  segment_contigs[segment].add(contig_num)\n",
        "          \n",
        "          # //TODO: Is this correct?\n",
        "          final_class = sorted(range(len(class_count)), key=lambda i:class_count[i])[-1]\n",
        "          if (final_class == 0):\n",
        "            plasmid_colors.append(contig_num)\n",
        "          elif (final_class == 1):\n",
        "            chromosome_colors.append(contig_num)\n",
        "          node_colors[contig_num] = final_class\n",
        "          print(contig_num, node_colors[contig_num])\n",
        "          \n",
        "          name = file.readline()\n",
        "          path = file.readline()\n",
        "  links = []\n",
        "  links_map = defaultdict(set)\n",
        "  # Get contig paths from contigs.paths\n",
        "  with open(gfafile) as file:\n",
        "      line = file.readline()\n",
        "      \n",
        "      while line != \"\":\n",
        "          \n",
        "          # Identify lines with link information\n",
        "          if \"L\" in line:\n",
        "              strings = line.split(\"\\t\")\n",
        "              f1, f2 = strings[1]+strings[2], strings[3]+strings[4]\n",
        "              links_map[f1].add(f2)\n",
        "              links_map[f2].add(f1)\n",
        "              links.append(strings[1]+strings[2]+\" \"+strings[3]+strings[4])\n",
        "          line = file.readline()\n",
        "  # Create graph\n",
        "  g = Graph()\n",
        "  # Add vertices\n",
        "  g.add_vertices(node_count)\n",
        "  for i in range(len(g.vs)):\n",
        "      g.vs[i][\"id\"]= i\n",
        "      g.vs[i][\"label\"]= str(i+1)\n",
        "      g.vs[i][\"class\"] = node_colors[str(i)]\n",
        "  for i in range(len(paths)):\n",
        "      segments = paths[str(i)]\n",
        "\n",
        "      #//TODO: Check\n",
        "      start = segments[0]\n",
        "      start_rev = \"\"\n",
        "      if start.endswith(\"+\"):\n",
        "          start_rev = start[:-1]+\"-\"\n",
        "      else:\n",
        "          start_rev = start[:-1]+\"+\"\n",
        "          \n",
        "      end = segments[1]\n",
        "      end_rev = \"\"\n",
        "      if end.endswith(\"+\"):\n",
        "          end_rev = end[:-1]+\"-\"\n",
        "      else:\n",
        "          end_rev = end[:-1]+\"+\"\n",
        "      \n",
        "      new_links = []\n",
        "      \n",
        "      # //TODO Add seperate logic to orientation\n",
        "      if start in links_map:\n",
        "          new_links.extend(list(links_map[start]))\n",
        "      if start_rev in links_map:\n",
        "          new_links.extend(list(links_map[start_rev]))\n",
        "      if end in links_map:\n",
        "          new_links.extend(list(links_map[end]))\n",
        "      if end_rev in links_map:\n",
        "          new_links.extend(list(links_map[end_rev]))\n",
        "      \n",
        "      # //TODO: Do we need only start and end ?\n",
        "      for new_link in new_links:\n",
        "          if new_link in segment_contigs:\n",
        "              for contig in segment_contigs[new_link]:\n",
        "                  if i!=int(contig):\n",
        "                      g.add_edge(i,int(contig))\n",
        "              \n",
        "  g.simplify(multiple=True, loops=False, combine_edges=None)\n",
        "  return g, plasmid_colors, chromosome_colors"
      ],
      "metadata": {
        "id": "ALNUQGsA9Uaa"
      },
      "execution_count": 30,
      "outputs": []
    },
    {
      "cell_type": "code",
      "source": [
        "# Visualising the Initial Assembly Graph using python-igraph"
      ],
      "metadata": {
        "id": "A_L1JahP9VfG"
      },
      "execution_count": 10,
      "outputs": []
    },
    {
      "cell_type": "code",
      "source": [
        "def visualize_assembly_graph(g, name):\n",
        "  out_fig_name = \"figures/\" + name+ \".png\"\n",
        "  visual_style = {}\n",
        "  # Set bbox and margin\n",
        "  visual_style[\"bbox\"] = (1500,1500)\n",
        "  visual_style[\"margin\"] = 30\n",
        "  # Set vertex colours\n",
        "  visual_style[\"vertex_color\"] = 'white'\n",
        "  # Set vertex size\n",
        "  visual_style[\"vertex_size\"] = 35\n",
        "  # Set vertex lable size\n",
        "  visual_style[\"vertex_label_size\"] = 15\n",
        "  # Don't curve the edges\n",
        "  visual_style[\"edge_curved\"] = False\n",
        "  # Set the layout\n",
        "  my_layout = g.layout_fruchterman_reingold()\n",
        "  visual_style[\"layout\"] = my_layout\n",
        "  # Plot the graph\n",
        "  plot(g, out_fig_name, **visual_style)"
      ],
      "metadata": {
        "id": "AOKw1Wcp9bAw"
      },
      "execution_count": 11,
      "outputs": []
    },
    {
      "cell_type": "code",
      "source": [
        "# Visualising the Coloured Assembly Graph using python-igraph"
      ],
      "metadata": {
        "id": "KoFcYUI79e9J"
      },
      "execution_count": 12,
      "outputs": []
    },
    {
      "cell_type": "code",
      "source": [
        "def color_assembly_grapg(g, outputname, plasmid_colors, chromosome_colors):\n",
        "  node_colours = []\n",
        "  for i in range(node_count):\n",
        "      if i in plasmid_colors:\n",
        "          node_colours.append(\"red\")\n",
        "      elif i in chromosome_colors:\n",
        "          node_colours.append(\"green\")\n",
        "      else:\n",
        "          node_colours.append(\"white\")\n",
        "  out_fig_name = outputname + \"-colored.png\"\n",
        "  g.vs[\"color\"] = node_colours\n",
        "  visual_style = {}\n",
        "  # Set bbox and margin\n",
        "  visual_style[\"bbox\"] = (1500,1500)\n",
        "  visual_style[\"margin\"] = 30\n",
        "  # Set vertex size\n",
        "  visual_style[\"vertex_size\"] = 35\n",
        "  # Set vertex lable size\n",
        "  visual_style[\"vertex_label_size\"] = 15\n",
        "  # Don't curve the edges\n",
        "  visual_style[\"edge_curved\"] = False\n",
        "  # Set the layout\n",
        "  visual_style[\"layout\"] = my_layout\n",
        "  # Plot the graph\n",
        "  plot(g, out_fig_name, **visual_style)"
      ],
      "metadata": {
        "id": "vWKCvGjj9iwK"
      },
      "execution_count": 13,
      "outputs": []
    },
    {
      "cell_type": "code",
      "source": [
        "def create_disjoint_components(graph):\n",
        "    components = graph.decompose()\n",
        "    if(_DEBUG):\n",
        "      print(\"# of components\", len(components))\n",
        "    for components in components:\n",
        "      print(list(components.vs))\n",
        "    return components"
      ],
      "metadata": {
        "id": "0lQsExOnyfSJ"
      },
      "execution_count": 14,
      "outputs": []
    },
    {
      "cell_type": "code",
      "source": [
        "# assign directory\n",
        "directory = gnndatasetpath\n",
        "# directory = '/content/dataset-1'\n",
        "\n",
        "# iterate over files in\n",
        "# that directory\n",
        "\n",
        "def process():\n",
        "  for datafolder in os.listdir(directory):\n",
        "      dataset = os.path.join(directory, datafolder)\n",
        "      gfafile = str(dataset) + \"/assembly_graph_with_scaffolds.gfa\"\n",
        "      contigpathfile = str(dataset) + \"/contigs.paths\"\n",
        "      outputname = datafolder\n",
        "      graph, plasmid_colors, chromosome_colors = buld_assembly_graph(contigpathfile, gfafile)\n",
        "      visualize_assembly_graph(graph, outputname)\n",
        "      color_assembly_grapg(graph, outputname, plasmid_colors, chromosome_colors)\n",
        "      create_disjoint_components(graph)\n",
        "      if _DEBUG:\n",
        "        break\n"
      ],
      "metadata": {
        "id": "AcYTohWqBovx"
      },
      "execution_count": 18,
      "outputs": []
    },
    {
      "cell_type": "code",
      "source": [
        "process()"
      ],
      "metadata": {
        "colab": {
          "base_uri": "https://localhost:8080/",
          "height": 1000
        },
        "id": "U0c-ItTr0sIY",
        "outputId": "1a32d00d-a531-4054-d6a3-a3ba1b6c8b96"
      },
      "execution_count": 31,
      "outputs": [
        {
          "output_type": "stream",
          "name": "stdout",
          "text": [
            "0 0\n",
            "0 0\n",
            "1 2\n",
            "1 2\n",
            "2 2\n",
            "2 2\n",
            "3 1\n",
            "3 1\n",
            "4 2\n",
            "4 2\n",
            "5 0\n",
            "5 0\n",
            "6 2\n",
            "6 2\n",
            "7 0\n",
            "7 0\n",
            "8 1\n",
            "8 1\n",
            "9 0\n",
            "9 0\n",
            "10 2\n",
            "10 2\n",
            "11 2\n",
            "11 2\n",
            "12 0\n",
            "12 0\n",
            "13 2\n",
            "13 2\n",
            "14 1\n",
            "14 1\n",
            "15 2\n",
            "15 2\n",
            "16 0\n",
            "16 0\n",
            "17 0\n",
            "17 0\n",
            "18 2\n",
            "18 2\n",
            "19 2\n",
            "19 2\n",
            "20 0\n",
            "20 0\n",
            "21 2\n",
            "21 2\n",
            "22 0\n",
            "22 0\n",
            "23 0\n",
            "23 0\n",
            "24 2\n",
            "24 2\n",
            "25 2\n",
            "25 2\n",
            "26 2\n",
            "26 2\n",
            "27 1\n",
            "27 1\n",
            "28 0\n",
            "28 0\n",
            "29 2\n",
            "29 2\n",
            "30 2\n",
            "30 2\n",
            "31 2\n",
            "31 2\n",
            "32 2\n",
            "32 2\n",
            "33 2\n",
            "33 2\n",
            "34 2\n",
            "34 2\n",
            "35 1\n",
            "35 1\n",
            "36 0\n",
            "36 0\n",
            "37 1\n",
            "37 1\n",
            "38 2\n",
            "38 2\n",
            "39 1\n",
            "39 1\n",
            "40 0\n",
            "40 0\n",
            "41 2\n",
            "41 2\n",
            "42 1\n",
            "42 1\n",
            "43 0\n",
            "43 0\n",
            "44 2\n",
            "44 2\n",
            "45 2\n",
            "45 2\n",
            "46 1\n",
            "46 1\n",
            "47 1\n",
            "47 1\n",
            "48 2\n",
            "48 2\n",
            "49 0\n",
            "49 0\n",
            "50 0\n",
            "50 0\n",
            "51 1\n",
            "51 1\n",
            "52 1\n",
            "52 1\n",
            "53 0\n",
            "53 0\n",
            "54 2\n",
            "54 2\n",
            "55 1\n",
            "55 1\n",
            "56 1\n",
            "56 1\n",
            "57 2\n",
            "57 2\n",
            "58 2\n",
            "58 2\n",
            "59 2\n",
            "59 2\n",
            "60 1\n",
            "60 1\n",
            "61 0\n",
            "61 0\n",
            "62 0\n",
            "62 0\n",
            "63 1\n",
            "63 1\n",
            "64 2\n",
            "64 2\n",
            "65 1\n",
            "65 1\n",
            "66 0\n",
            "66 0\n",
            "67 0\n",
            "67 0\n",
            "68 2\n",
            "68 2\n",
            "69 2\n",
            "69 2\n",
            "70 1\n",
            "70 1\n",
            "71 2\n",
            "71 2\n",
            "72 2\n",
            "72 2\n",
            "73 1\n",
            "73 1\n",
            "74 1\n",
            "74 1\n",
            "75 1\n",
            "75 1\n",
            "76 0\n",
            "76 0\n",
            "77 1\n",
            "77 1\n",
            "78 0\n",
            "78 0\n",
            "79 1\n",
            "79 1\n",
            "80 0\n",
            "80 0\n",
            "81 2\n",
            "81 2\n",
            "82 0\n",
            "82 0\n",
            "83 2\n",
            "83 2\n",
            "84 1\n",
            "84 1\n",
            "85 2\n",
            "85 2\n",
            "86 2\n",
            "86 2\n",
            "87 0\n",
            "87 0\n",
            "88 0\n",
            "88 0\n",
            "89 1\n",
            "89 1\n",
            "90 0\n",
            "90 0\n",
            "91 0\n",
            "91 0\n",
            "92 0\n",
            "92 0\n",
            "93 2\n",
            "93 2\n",
            "94 0\n",
            "94 0\n",
            "95 1\n",
            "95 1\n",
            "96 2\n",
            "96 2\n",
            "97 1\n",
            "97 1\n",
            "98 1\n",
            "98 1\n",
            "99 0\n",
            "99 0\n",
            "100 2\n",
            "100 2\n",
            "101 0\n",
            "101 0\n",
            "102 2\n",
            "102 2\n",
            "103 2\n",
            "103 2\n",
            "104 1\n",
            "104 1\n",
            "105 1\n",
            "105 1\n",
            "106 2\n",
            "106 2\n",
            "107 2\n",
            "107 2\n",
            "108 0\n",
            "108 0\n",
            "109 1\n",
            "109 1\n",
            "110 0\n",
            "110 0\n",
            "111 2\n",
            "111 2\n",
            "112 0\n",
            "112 0\n",
            "113 2\n",
            "113 2\n",
            "114 2\n",
            "114 2\n",
            "115 0\n",
            "115 0\n",
            "116 2\n",
            "116 2\n",
            "117 0\n",
            "117 0\n",
            "118 0\n",
            "118 0\n",
            "119 1\n",
            "119 1\n",
            "120 0\n",
            "120 0\n",
            "121 0\n",
            "121 0\n",
            "122 2\n",
            "122 2\n",
            "123 0\n",
            "123 0\n",
            "124 2\n",
            "124 2\n",
            "125 2\n",
            "125 2\n",
            "126 2\n",
            "126 2\n",
            "127 0\n",
            "127 0\n"
          ]
        },
        {
          "output_type": "error",
          "ename": "KeyError",
          "evalue": "ignored",
          "traceback": [
            "\u001b[0;31m---------------------------------------------------------------------------\u001b[0m",
            "\u001b[0;31mKeyError\u001b[0m                                  Traceback (most recent call last)",
            "\u001b[0;32m<ipython-input-31-34a28a13cb9b>\u001b[0m in \u001b[0;36m<module>\u001b[0;34m()\u001b[0m\n\u001b[0;32m----> 1\u001b[0;31m \u001b[0mprocess\u001b[0m\u001b[0;34m(\u001b[0m\u001b[0;34m)\u001b[0m\u001b[0;34m\u001b[0m\u001b[0;34m\u001b[0m\u001b[0m\n\u001b[0m",
            "\u001b[0;32m<ipython-input-18-f39fe6caf24e>\u001b[0m in \u001b[0;36mprocess\u001b[0;34m()\u001b[0m\n\u001b[1;32m     12\u001b[0m       \u001b[0mcontigpathfile\u001b[0m \u001b[0;34m=\u001b[0m \u001b[0mstr\u001b[0m\u001b[0;34m(\u001b[0m\u001b[0mdataset\u001b[0m\u001b[0;34m)\u001b[0m \u001b[0;34m+\u001b[0m \u001b[0;34m\"/contigs.paths\"\u001b[0m\u001b[0;34m\u001b[0m\u001b[0;34m\u001b[0m\u001b[0m\n\u001b[1;32m     13\u001b[0m       \u001b[0moutputname\u001b[0m \u001b[0;34m=\u001b[0m \u001b[0mdatafolder\u001b[0m\u001b[0;34m\u001b[0m\u001b[0;34m\u001b[0m\u001b[0m\n\u001b[0;32m---> 14\u001b[0;31m       \u001b[0mgraph\u001b[0m\u001b[0;34m,\u001b[0m \u001b[0mplasmid_colors\u001b[0m\u001b[0;34m,\u001b[0m \u001b[0mchromosome_colors\u001b[0m \u001b[0;34m=\u001b[0m \u001b[0mbuld_assembly_graph\u001b[0m\u001b[0;34m(\u001b[0m\u001b[0mcontigpathfile\u001b[0m\u001b[0;34m,\u001b[0m \u001b[0mgfafile\u001b[0m\u001b[0;34m)\u001b[0m\u001b[0;34m\u001b[0m\u001b[0;34m\u001b[0m\u001b[0m\n\u001b[0m\u001b[1;32m     15\u001b[0m       \u001b[0mvisualize_assembly_graph\u001b[0m\u001b[0;34m(\u001b[0m\u001b[0mgraph\u001b[0m\u001b[0;34m,\u001b[0m \u001b[0moutputname\u001b[0m\u001b[0;34m)\u001b[0m\u001b[0;34m\u001b[0m\u001b[0;34m\u001b[0m\u001b[0m\n\u001b[1;32m     16\u001b[0m       \u001b[0mcolor_assembly_grapg\u001b[0m\u001b[0;34m(\u001b[0m\u001b[0mgraph\u001b[0m\u001b[0;34m,\u001b[0m \u001b[0moutputname\u001b[0m\u001b[0;34m,\u001b[0m \u001b[0mplasmid_colors\u001b[0m\u001b[0;34m,\u001b[0m \u001b[0mchromosome_colors\u001b[0m\u001b[0;34m)\u001b[0m\u001b[0;34m\u001b[0m\u001b[0;34m\u001b[0m\u001b[0m\n",
            "\u001b[0;32m<ipython-input-30-217a65d8bde8>\u001b[0m in \u001b[0;36mbuld_assembly_graph\u001b[0;34m(cotigpathfile, gfafile, node_count, segment_contigs, paths)\u001b[0m\n\u001b[1;32m     84\u001b[0m       \u001b[0mg\u001b[0m\u001b[0;34m.\u001b[0m\u001b[0mvs\u001b[0m\u001b[0;34m[\u001b[0m\u001b[0mi\u001b[0m\u001b[0;34m]\u001b[0m\u001b[0;34m[\u001b[0m\u001b[0;34m\"id\"\u001b[0m\u001b[0;34m]\u001b[0m\u001b[0;34m=\u001b[0m \u001b[0mi\u001b[0m\u001b[0;34m\u001b[0m\u001b[0;34m\u001b[0m\u001b[0m\n\u001b[1;32m     85\u001b[0m       \u001b[0mg\u001b[0m\u001b[0;34m.\u001b[0m\u001b[0mvs\u001b[0m\u001b[0;34m[\u001b[0m\u001b[0mi\u001b[0m\u001b[0;34m]\u001b[0m\u001b[0;34m[\u001b[0m\u001b[0;34m\"label\"\u001b[0m\u001b[0;34m]\u001b[0m\u001b[0;34m=\u001b[0m \u001b[0mstr\u001b[0m\u001b[0;34m(\u001b[0m\u001b[0mi\u001b[0m\u001b[0;34m+\u001b[0m\u001b[0;36m1\u001b[0m\u001b[0;34m)\u001b[0m\u001b[0;34m\u001b[0m\u001b[0;34m\u001b[0m\u001b[0m\n\u001b[0;32m---> 86\u001b[0;31m       \u001b[0mg\u001b[0m\u001b[0;34m.\u001b[0m\u001b[0mvs\u001b[0m\u001b[0;34m[\u001b[0m\u001b[0mi\u001b[0m\u001b[0;34m]\u001b[0m\u001b[0;34m[\u001b[0m\u001b[0;34m\"class\"\u001b[0m\u001b[0;34m]\u001b[0m \u001b[0;34m=\u001b[0m \u001b[0mnode_colors\u001b[0m\u001b[0;34m[\u001b[0m\u001b[0mstr\u001b[0m\u001b[0;34m(\u001b[0m\u001b[0mi\u001b[0m \u001b[0;34m+\u001b[0m \u001b[0;36m1\u001b[0m\u001b[0;34m)\u001b[0m\u001b[0;34m]\u001b[0m\u001b[0;34m\u001b[0m\u001b[0;34m\u001b[0m\u001b[0m\n\u001b[0m\u001b[1;32m     87\u001b[0m   \u001b[0;32mfor\u001b[0m \u001b[0mi\u001b[0m \u001b[0;32min\u001b[0m \u001b[0mrange\u001b[0m\u001b[0;34m(\u001b[0m\u001b[0mlen\u001b[0m\u001b[0;34m(\u001b[0m\u001b[0mpaths\u001b[0m\u001b[0;34m)\u001b[0m\u001b[0;34m)\u001b[0m\u001b[0;34m:\u001b[0m\u001b[0;34m\u001b[0m\u001b[0;34m\u001b[0m\u001b[0m\n\u001b[1;32m     88\u001b[0m       \u001b[0msegments\u001b[0m \u001b[0;34m=\u001b[0m \u001b[0mpaths\u001b[0m\u001b[0;34m[\u001b[0m\u001b[0mstr\u001b[0m\u001b[0;34m(\u001b[0m\u001b[0mi\u001b[0m\u001b[0;34m)\u001b[0m\u001b[0;34m]\u001b[0m\u001b[0;34m\u001b[0m\u001b[0;34m\u001b[0m\u001b[0m\n",
            "\u001b[0;31mKeyError\u001b[0m: '128'"
          ]
        }
      ]
    },
    {
      "cell_type": "code",
      "source": [
        ""
      ],
      "metadata": {
        "id": "q-fzMqiFfPtn"
      },
      "execution_count": null,
      "outputs": []
    }
  ]
}